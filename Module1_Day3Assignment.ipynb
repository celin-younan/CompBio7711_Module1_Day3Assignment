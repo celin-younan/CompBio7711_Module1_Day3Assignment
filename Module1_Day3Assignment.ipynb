{
 "cells": [
  {
   "cell_type": "code",
   "execution_count": 6,
   "metadata": {},
   "outputs": [],
   "source": [
    "# Create a set to store string network\n",
    "network_edges = []\n",
    "\n",
    "# Read the network data from STRING.txt and input.gmt.txt\n",
    "with open('InputFiles/STRING1.txt', 'r') as strings_file:\n",
    "    for line in strings_file:\n",
    "        parts = line.strip().split('\\t')\n",
    "        network_edges.append(parts)\n",
    "\n",
    "# Create a set to store FA genes\n",
    "fa_genes = set()\n",
    "\n",
    "# Read the input.gmt.txt file and extract FA genes\n",
    "with open('InputFiles/input.gmt.txt', 'r') as gmt_file:\n",
    "    for line in gmt_file:\n",
    "        parts = line.strip().split('\\t')\n",
    "        if parts[0].lower().startswith('fanconi anemia'):\n",
    "            fa_genes.update(parts[2:])"
   ]
  },
  {
   "cell_type": "code",
   "execution_count": 27,
   "metadata": {},
   "outputs": [],
   "source": [
    "# Extract the subnetwork of FA genes\n",
    "fa_subnetwork = []\n",
    "# create dictionary for genes not associated with FA\n",
    "non_fa_genes = []\n",
    "# Initialize a count variable to keep track of how many times nodes are not associated with FA genes\n",
    "count_non_fa = 0\n",
    "\n",
    "for edge in network_edges:\n",
    "    node1, node2, interaction_weight = edge\n",
    "    if node1 in fa_genes and node2 in fa_genes:\n",
    "        fa_subnetwork.append(edge)\n",
    "    # check if node one is fa gene\n",
    "    elif node1 in fa_genes:\n",
    "        fa_subnetwork.append(edge)\n",
    "    # check if node 2 is an fa gene\n",
    "    elif node2 in fa_genes:\n",
    "        fa_subnetwork.append(edge)\n",
    "    else:\n",
    "        non_fa_genes.append(node1)\n",
    "        non_fa_genes.append(node2)\n"
   ]
  },
  {
   "cell_type": "code",
   "execution_count": 15,
   "metadata": {},
   "outputs": [],
   "source": [
    "# Save the subnetwork to a text file\n",
    "with open('OutputFiles/fa_subnetwork.txt', 'w') as subnetwork_file:\n",
    "    for edge in fa_subnetwork:\n",
    "        subnetwork_file.write('\\t'.join(edge) + '\\n')"
   ]
  },
  {
   "cell_type": "code",
   "execution_count": 16,
   "metadata": {},
   "outputs": [
    {
     "data": {
      "text/plain": [
       "123364"
      ]
     },
     "execution_count": 16,
     "metadata": {},
     "output_type": "execute_result"
    }
   ],
   "source": [
    "# Lenght of FA subnetwork that match node1 and node2 len = 2048\n",
    "len(fa_subnetwork)"
   ]
  }
 ],
 "metadata": {
  "kernelspec": {
   "display_name": "Python 3",
   "language": "python",
   "name": "python3"
  },
  "language_info": {
   "codemirror_mode": {
    "name": "ipython",
    "version": 3
   },
   "file_extension": ".py",
   "mimetype": "text/x-python",
   "name": "python",
   "nbconvert_exporter": "python",
   "pygments_lexer": "ipython3",
   "version": "3.9.6"
  },
  "orig_nbformat": 4
 },
 "nbformat": 4,
 "nbformat_minor": 2
}
