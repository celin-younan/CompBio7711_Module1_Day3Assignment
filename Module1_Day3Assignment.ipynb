{
 "cells": [
  {
   "cell_type": "code",
   "execution_count": 1,
   "metadata": {},
   "outputs": [],
   "source": [
    "# Create a set to store string network\n",
    "network_edges = []\n",
    "\n",
    "# Read the network data from STRING.txt and input.gmt.txt\n",
    "with open('InputFiles/STRING1.txt', 'r') as strings_file:\n",
    "    for line in strings_file:\n",
    "        parts = line.strip().split('\\t')\n",
    "        network_edges.append(parts)\n",
    "\n",
    "# Create a set to store FA genes\n",
    "fa_genes = set()\n",
    "\n",
    "# Read the input.gmt.txt file and extract FA genes\n",
    "with open('InputFiles/input.gmt.txt', 'r') as gmt_file:\n",
    "    for line in gmt_file:\n",
    "        parts = line.strip().split('\\t')\n",
    "        if parts[0].lower().startswith('fanconi anemia'):\n",
    "            fa_genes.update(parts[2:])"
   ]
  },
  {
   "cell_type": "code",
   "execution_count": 16,
   "metadata": {},
   "outputs": [],
   "source": [
    "# Extract the subnetwork of FA genes\n",
    "fa_subnetwork = []\n",
    "# create dictionary for genes not associated with FA\n",
    "non_fa_genes = []\n",
    "\n",
    "for edge in network_edges:\n",
    "    node1, node2, interaction_weight = edge\n",
    "    if node1 in fa_genes and node2 in fa_genes:\n",
    "        fa_subnetwork.append(edge)\n",
    "    # check if node one is fa gene\n",
    "    elif node1 in fa_genes:\n",
    "        fa_subnetwork.append(edge)\n",
    "    # check if node 2 is an fa gene\n",
    "    elif node2 in fa_genes:\n",
    "        fa_subnetwork.append(edge)\n",
    "    # if not create a list that contains the name of the non FA gene\n",
    "    else:\n",
    "        non_fa_genes.append(node1)\n",
    "        non_fa_genes.append(node2)\n"
   ]
  },
  {
   "cell_type": "code",
   "execution_count": 17,
   "metadata": {},
   "outputs": [],
   "source": [
    "# Create an empty dictionary to store non FA gene counts\n",
    "count_non_fa = {}\n",
    "\n",
    "# Iterate over the non FA genes list\n",
    "for item in non_fa_genes:\n",
    "    if item in count_non_fa:\n",
    "        # If the item is already in the dictionary, increment its count\n",
    "        count_non_fa[item] += 1\n",
    "    else:\n",
    "        # If the item is not in the dictionary, add it with a count of 1\n",
    "        count_non_fa[item] = 1"
   ]
  },
  {
   "cell_type": "code",
   "execution_count": 4,
   "metadata": {},
   "outputs": [
    {
     "data": {
      "text/plain": [
       "123364"
      ]
     },
     "execution_count": 4,
     "metadata": {},
     "output_type": "execute_result"
    }
   ],
   "source": [
    "# Lenght of FA subnetwork that match node1 and node2 len = 2048\n",
    "# length of FA subnetwork that match node1, node2, and node1 AND node2 = 123364\n",
    "len(fa_subnetwork)"
   ]
  },
  {
   "cell_type": "code",
   "execution_count": 7,
   "metadata": {},
   "outputs": [
    {
     "name": "stdout",
     "output_type": "stream",
     "text": [
      "P\n"
     ]
    }
   ],
   "source": [
    "# pring FA subnetwork\n",
    "print(fa_subnetwork[0][1][2])"
   ]
  },
  {
   "cell_type": "code",
   "execution_count": 18,
   "metadata": {},
   "outputs": [
    {
     "data": {
      "text/plain": [
       "16304"
      ]
     },
     "execution_count": 18,
     "metadata": {},
     "output_type": "execute_result"
    }
   ],
   "source": [
    "# how many non FA genes + counts \n",
    "len(count_non_fa)"
   ]
  },
  {
   "cell_type": "code",
   "execution_count": 21,
   "metadata": {},
   "outputs": [],
   "source": [
    "# view dictionary containing non FA genes and their count\n",
    "count_non_fa;"
   ]
  },
  {
   "cell_type": "code",
   "execution_count": null,
   "metadata": {},
   "outputs": [],
   "source": [
    "# Save the subnetwork to a text file\n",
    "with open('OutputFiles/fa_subnetwork.txt', 'w') as subnetwork_file:\n",
    "    for edge in fa_subnetwork:\n",
    "        subnetwork_file.write('\\t'.join(edge) + '\\n')"
   ]
  },
  {
   "cell_type": "code",
   "execution_count": null,
   "metadata": {},
   "outputs": [],
   "source": [
    "# save non FA genes to a text file in OutputFiles\n",
    "with open('OutputFiles/non_fa_gene_counts.txt', 'w') as counts_nonfa:\n",
    "    for key, value in count_non_fa.items():\n",
    "        counts_nonfa.write(f'{key}: {value}\\n')"
   ]
  }
 ],
 "metadata": {
  "kernelspec": {
   "display_name": "Python 3",
   "language": "python",
   "name": "python3"
  },
  "language_info": {
   "codemirror_mode": {
    "name": "ipython",
    "version": 3
   },
   "file_extension": ".py",
   "mimetype": "text/x-python",
   "name": "python",
   "nbconvert_exporter": "python",
   "pygments_lexer": "ipython3",
   "version": "3.9.6"
  },
  "orig_nbformat": 4
 },
 "nbformat": 4,
 "nbformat_minor": 2
}
